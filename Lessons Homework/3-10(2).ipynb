{
 "cells": [
  {
   "cell_type": "code",
   "execution_count": 4,
   "metadata": {},
   "outputs": [
    {
     "name": "stdout",
     "output_type": "stream",
     "text": [
      "['John', 'Jean', 'Joe', 'Jeff']\n"
     ]
    }
   ],
   "source": [
    "# Python Popcorn Hack 1\n",
    "\n",
    "list = [\"John\", \"Joe\", \"Jeff\"]\n",
    "\n",
    "list.insert(-2, \"Jean\")\n",
    "\n",
    "print(list)"
   ]
  },
  {
   "cell_type": "code",
   "execution_count": null,
   "metadata": {},
   "outputs": [],
   "source": [
    "# Python Popcorn Hack 2\n",
    "\n",
    "list1 = [1, 2, 3, 4, 5]\n",
    "list2 = [\"a\", \"b\", \"c\", \"d\", \"e\"]\n",
    "\n",
    "list3 = list1.extend(list2)"
   ]
  },
  {
   "cell_type": "code",
   "execution_count": 6,
   "metadata": {},
   "outputs": [
    {
     "name": "stdout",
     "output_type": "stream",
     "text": [
      "[1, 3]\n"
     ]
    }
   ],
   "source": [
    "# Python Popcorn Hack 3\n",
    "\n",
    "list = [1, 2, 3, 4, 5]\n",
    "\n",
    "list.pop()\n",
    "list.remove(2)\n",
    "del list[2]\n",
    "\n",
    "print(list)"
   ]
  },
  {
   "cell_type": "code",
   "execution_count": null,
   "metadata": {
    "vscode": {
     "languageId": "javascript"
    }
   },
   "outputs": [],
   "source": [
    "%%javascript \n",
    "\n",
    "// Javscript Popcorn Hack 1\n",
    "\n",
    "let list = [1, 2, 3, 4, 5]\n",
    "\n",
    "list.reverse()\n",
    "\n",
    "console.log(list)"
   ]
  },
  {
   "cell_type": "code",
   "execution_count": null,
   "metadata": {
    "vscode": {
     "languageId": "javascript"
    }
   },
   "outputs": [],
   "source": [
    "%%javascript \n",
    "\n",
    "// Javscript Popcorn Hack 2\n",
    "\n"
   ]
  }
 ],
 "metadata": {
  "kernelspec": {
   "display_name": "venv",
   "language": "python",
   "name": "python3"
  },
  "language_info": {
   "codemirror_mode": {
    "name": "ipython",
    "version": 3
   },
   "file_extension": ".py",
   "mimetype": "text/x-python",
   "name": "python",
   "nbconvert_exporter": "python",
   "pygments_lexer": "ipython3",
   "version": "3.12.3"
  }
 },
 "nbformat": 4,
 "nbformat_minor": 2
}
