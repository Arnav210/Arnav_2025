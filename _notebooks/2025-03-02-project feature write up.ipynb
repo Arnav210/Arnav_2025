{
 "cells": [
  {
   "cell_type": "raw",
   "metadata": {
    "vscode": {
     "languageId": "raw"
    }
   },
   "source": [
    "---\n",
    "layout: post\n",
    "title: Project Feature Write Up\n",
    "description: My features and their relations to the CPT requirements\n",
    "type: issues \n",
    "comments: true\n",
    "---"
   ]
  },
  {
   "cell_type": "markdown",
   "metadata": {},
   "source": [
    "CPT Requirements:\n",
    "\n",
    "- Instructions for input (from the user, a device, an online data stream, or a file)\n",
    "- Use of at least one list or other collection type to represent stored data\n",
    "- At least one procedure that contributes to the intended purpose of the program (with the name, the return type, and one or more parameters)\n",
    "- An algorithm including sequencing, selection, and iteration\n",
    "- Instructions for output (tactile, audible, visual, or textual) that are based on inputs and the program's functionality"
   ]
  },
  {
   "cell_type": "markdown",
   "metadata": {},
   "source": [
    "### Feature 1 - Preferences Page\n",
    "\n",
    "### Feature 2 - Favorite Books Page\n",
    "\n",
    "### Feature 3 - Reading Progress Tracker Page"
   ]
  },
  {
   "cell_type": "markdown",
   "metadata": {},
   "source": [
    "# Requirement 1: Instructions for Input (user)"
   ]
  },
  {
   "cell_type": "markdown",
   "metadata": {},
   "source": [
    "### Preferences"
   ]
  },
  {
   "cell_type": "code",
   "execution_count": null,
   "metadata": {
    "vscode": {
     "languageId": "javascript"
    }
   },
   "outputs": [],
   "source": [
    "<button class=\"color-button\" id=\"white\">White</button>\n",
    "<button class=\"color-button\" id=\"black\">Black</button>\n",
    "<button class=\"color-button\" id=\"changeMenu\">Change Menu Color</button>"
   ]
  },
  {
   "cell_type": "markdown",
   "metadata": {},
   "source": [
    "### Favorite Books"
   ]
  },
  {
   "cell_type": "code",
   "execution_count": null,
   "metadata": {
    "vscode": {
     "languageId": "javascript"
    }
   },
   "outputs": [],
   "source": [
    "<div class=\"container\">\n",
    "<input type=\"text\" id=\"bookTitle\" placeholder=\"Enter book title\" />\n",
    "<button class=\"button\" onclick=\"addBook()\">Add Book</button>\n",
    "</div>"
   ]
  },
  {
   "cell_type": "markdown",
   "metadata": {},
   "source": [
    "### Reading Progress Tracker"
   ]
  },
  {
   "cell_type": "code",
   "execution_count": null,
   "metadata": {
    "vscode": {
     "languageId": "javascript"
    }
   },
   "outputs": [],
   "source": [
    "<input type=\"text\" id=\"bookTitle\" placeholder=\"Book Title\">\n",
    "<input type=\"number\" id=\"bookPercent\" placeholder=\"Percent Read\" min=\"0\" max=\"100\">\n",
    "<button class=\"button\" onclick=\"addBook()\">Add Book</button>\n",
    "<button class=\"button\" onclick=\"fetchBooks()\">Load Books</button>"
   ]
  },
  {
   "cell_type": "markdown",
   "metadata": {},
   "source": [
    "In each of my pages, there are buttons to click which do different things such as change a color or prompt the user to enter more specifications inside a popup. In some of the pages, there are also empty text boxes already placed on the page for users to use with the buttons. "
   ]
  },
  {
   "cell_type": "markdown",
   "metadata": {},
   "source": [
    "# Requirement 2: Use of a Collection Type (dictionaries/lists)"
   ]
  },
  {
   "cell_type": "markdown",
   "metadata": {},
   "source": [
    "### Preferences"
   ]
  },
  {
   "cell_type": "code",
   "execution_count": null,
   "metadata": {},
   "outputs": [],
   "source": [
    "preferences = {\n",
    "    \"menu\": \"red\",\n",
    "    \"text\": \"white\"\n",
    "}"
   ]
  },
  {
   "cell_type": "markdown",
   "metadata": {},
   "source": [
    "### Favorite Books"
   ]
  },
  {
   "cell_type": "code",
   "execution_count": null,
   "metadata": {},
   "outputs": [],
   "source": [
    "favorite_book_list = [\n",
    "            FavoriteBook(title=\"Hunger Games\"), \n",
    "            FavoriteBook(title=\"Maze Runner\"),\n",
    "        ]"
   ]
  },
  {
   "cell_type": "markdown",
   "metadata": {},
   "source": [
    "### Reading Progress Tracker"
   ]
  },
  {
   "cell_type": "code",
   "execution_count": null,
   "metadata": {},
   "outputs": [],
   "source": [
    "book_progress_list = [\n",
    "            BookProgress(title=\"Hunger Games\", percent_read=30.0), \n",
    "            BookProgress(title=\"Maze Runner\", percent_read=50.0),\n",
    "        ]"
   ]
  },
  {
   "cell_type": "markdown",
   "metadata": {},
   "source": [
    "The data for each of my pages is stored inside of its own dictionary or list where it is repeatedly accessed to add, update, and delete information."
   ]
  },
  {
   "cell_type": "markdown",
   "metadata": {},
   "source": [
    "# Requirement 3: Use of at least one procedure"
   ]
  },
  {
   "cell_type": "markdown",
   "metadata": {},
   "source": [
    "### Preferences"
   ]
  },
  {
   "cell_type": "code",
   "execution_count": null,
   "metadata": {},
   "outputs": [],
   "source": [
    "def update_preferences():\n",
    "    # Check if the request contains JSON\n",
    "    if request.is_json:\n",
    "        # Get the new preferences data from the JSON body\n",
    "        data = request.get_json()\n",
    "       \n",
    "        # Update preferences dictionary with the new data\n",
    "        preferences.update(data)\n",
    "       \n",
    "        # Return the updated preferences as a response\n",
    "        return jsonify(preferences), 200\n",
    "    else:\n",
    "        return jsonify({\"error\": \"Request must be in JSON format\"}), 400"
   ]
  },
  {
   "cell_type": "markdown",
   "metadata": {},
   "source": [
    "### Favorite Books"
   ]
  },
  {
   "cell_type": "code",
   "execution_count": null,
   "metadata": {},
   "outputs": [],
   "source": [
    "def get(self):\n",
    "        favorite_books = FavoriteBook.query.all()\n",
    "        return {\"books\": [book.read() for book in favorite_books]}, 200  "
   ]
  },
  {
   "cell_type": "markdown",
   "metadata": {},
   "source": [
    "### Reading Progress Tracker"
   ]
  },
  {
   "cell_type": "code",
   "execution_count": null,
   "metadata": {},
   "outputs": [],
   "source": [
    "def put(self, book_progress_id):\n",
    "        data = request.get_json()\n",
    "        if not data or 'title' not in data:\n",
    "            return {'error': 'Title is required.'}, 400\n",
    "\n",
    "        book_progress = BookProgress.query.get(book_progress_id)\n",
    "        if not book_progress:\n",
    "            return {'error': 'Book progress not found.'}, 404\n",
    "\n",
    "        book_progress.title = data['title']\n",
    "        book_progress.percent_read = data.get('percent_read', book_progress.percent_read)\n",
    "        db.session.commit()  # Save update to database\n",
    "\n",
    "        return book_progress.read(), 200 "
   ]
  },
  {
   "cell_type": "markdown",
   "metadata": {},
   "source": [
    "Each of the procedures in my features is defined, takes input, and returns data. While it may not seem like the function in Preferences is taking any parameters, it does use the JSON data and updates the dictionary with the preferences stored based on the data."
   ]
  },
  {
   "cell_type": "markdown",
   "metadata": {},
   "source": [
    "# Requirement 4: Algorith with Sequencing, Selection, and Iteration"
   ]
  },
  {
   "cell_type": "markdown",
   "metadata": {},
   "source": [
    "### Preferences"
   ]
  },
  {
   "cell_type": "code",
   "execution_count": null,
   "metadata": {},
   "outputs": [],
   "source": [
    "def update_preferences():\n",
    "    # Check if the request contains JSON\n",
    "    if request.is_json:\n",
    "        # Get the new preferences data from the JSON body\n",
    "        data = request.get_json()\n",
    "       \n",
    "        # Update preferences dictionary with the new data\n",
    "        preferences.update(data)\n",
    "       \n",
    "        # Return the updated preferences as a response\n",
    "        return jsonify(preferences), 200\n",
    "    else:\n",
    "        return jsonify({\"error\": \"Request must be in JSON format\"}), 400"
   ]
  },
  {
   "cell_type": "markdown",
   "metadata": {},
   "source": [
    "### Favorite Books"
   ]
  },
  {
   "cell_type": "code",
   "execution_count": null,
   "metadata": {
    "vscode": {
     "languageId": "javascript"
    }
   },
   "outputs": [],
   "source": [
    "function fetchBooks() {\n",
    "    fetch(apiUrl)\n",
    "        .then(response => response.json())\n",
    "        .then(data => {\n",
    "            const tableBody = document.getElementById('booksTable');\n",
    "            tableBody.innerHTML = '';\n",
    "\n",
    "            data.books.forEach(book => {\n",
    "                const row = `<tr>\n",
    "                    <td>${book.id}</td>\n",
    "                    <td>${book.title}</td>\n",
    "                    <td>\n",
    "                        <button class=\"button edit\" onclick=\"editBook(${book.id}, '${book.title}')\">Edit</button>\n",
    "                        <button class=\"button delete\" onclick=\"deleteBook(${book.id})\">Delete</button>\n",
    "                    </td>\n",
    "                </tr>`;\n",
    "                tableBody.innerHTML += row;\n",
    "            });\n",
    "        })\n",
    "        .catch(error => console.error('Error fetching books:', error));\n",
    "}"
   ]
  },
  {
   "cell_type": "markdown",
   "metadata": {},
   "source": [
    "### Reading Progress Tracker"
   ]
  },
  {
   "cell_type": "code",
   "execution_count": null,
   "metadata": {
    "vscode": {
     "languageId": "javascript"
    }
   },
   "outputs": [],
   "source": [
    "function addBook() {\n",
    "      const title = document.getElementById('bookTitle').value;\n",
    "      const percentRead = document.getElementById('bookPercent').value || 0;\n",
    "      \n",
    "      if (!title) {\n",
    "        alert('Please enter a book title');\n",
    "        return;\n",
    "      }\n",
    "      \n",
    "      fetch(apiUrl, {\n",
    "        method: 'POST',\n",
    "        headers: { 'Content-Type': 'application/json' },\n",
    "        body: JSON.stringify({ title, percent_read: parseFloat(percentRead) })\n",
    "      })\n",
    "      .then(response => response.json())\n",
    "      .then(data => {\n",
    "        if (data.error) {\n",
    "          alert(data.error);\n",
    "        } else {\n",
    "          fetchBooks();\n",
    "        }\n",
    "      })\n",
    "      .catch(error => console.error('Error adding book:', error));\n",
    "    }"
   ]
  },
  {
   "cell_type": "markdown",
   "metadata": {},
   "source": [
    "Each of the above functions contain sequencing, as they all follow a guided set of steps. In these examples, Preferences and Reading Progress Tracker both have selection as well, as they contain if statements to select data and ensure that it is correct. Finally, Favorite Books has iteration as it contains the line data.books.forEach(parameters) which iterates through the data and does an action for each book."
   ]
  },
  {
   "cell_type": "markdown",
   "metadata": {},
   "source": [
    "# Requirement 5: Instructions for Output (visual)"
   ]
  },
  {
   "cell_type": "markdown",
   "metadata": {},
   "source": [
    "### Preferences"
   ]
  },
  {
   "cell_type": "code",
   "execution_count": null,
   "metadata": {
    "vscode": {
     "languageId": "javascript"
    }
   },
   "outputs": [],
   "source": [
    "let pColors = document.querySelectorAll('p');\n",
    "pColors.forEach(p => {\n",
    "  p.style.color = data.text;\n",
    "});\n",
    "\n",
    "let menuItems = document.querySelectorAll('.menu-item');\n",
    "menuItems.forEach(item => {\n",
    "  item.style.backgroundColor = data.menu;\n",
    "});"
   ]
  },
  {
   "cell_type": "markdown",
   "metadata": {},
   "source": [
    "### Favorite Books"
   ]
  },
  {
   "cell_type": "code",
   "execution_count": null,
   "metadata": {
    "vscode": {
     "languageId": "javascript"
    }
   },
   "outputs": [],
   "source": [
    "function editBook(bookId, currentTitle) {\n",
    "    const newTitle = prompt('Enter new book title:', currentTitle);\n",
    "    if (!newTitle || newTitle === currentTitle) return;\n",
    "\n",
    "    fetch(`${apiUrl}/${bookId}`, {\n",
    "        method: 'PUT',\n",
    "        headers: { 'Content-Type': 'application/json' },\n",
    "        body: JSON.stringify({ title: newTitle })\n",
    "    })\n",
    "    .then(response => response.json())\n",
    "    .then(data => {\n",
    "        if (data.error) {\n",
    "            alert(data.error);\n",
    "        } else {\n",
    "            fetchBooks();\n",
    "        }\n",
    "    });\n",
    "}"
   ]
  },
  {
   "cell_type": "markdown",
   "metadata": {},
   "source": [
    "### Reading Progress Tracker"
   ]
  },
  {
   "cell_type": "code",
   "execution_count": null,
   "metadata": {
    "vscode": {
     "languageId": "javascript"
    }
   },
   "outputs": [],
   "source": [
    "function addBook() {\n",
    "    const title = document.getElementById('bookTitle').value;\n",
    "    const percentRead = document.getElementById('bookPercent').value || 0;\n",
    "    \n",
    "    if (!title) {\n",
    "      alert('Please enter a book title');\n",
    "      return;\n",
    "    }\n",
    "    \n",
    "    fetch(apiUrl, {\n",
    "      method: 'POST',\n",
    "      headers: { 'Content-Type': 'application/json' },\n",
    "      body: JSON.stringify({ title, percent_read: parseFloat(percentRead) })\n",
    "    })\n",
    "    .then(response => response.json())\n",
    "    .then(data => {\n",
    "      if (data.error) {\n",
    "        alert(data.error);\n",
    "      } else {\n",
    "        fetchBooks();\n",
    "      }\n",
    "    })\n",
    "    .catch(error => console.error('Error adding book:', error));\n",
    "  }"
   ]
  },
  {
   "cell_type": "markdown",
   "metadata": {},
   "source": [
    "These code segments outline some of the outputs that users would get upon interacting with my features. For Preferences, when they use the buttons to change the colors of the page, the styling will be updated and they will see different colors based on their choice. For the other two, the user interaction will either change text that is already in a table or add new text to a table. "
   ]
  },
  {
   "cell_type": "markdown",
   "metadata": {},
   "source": [
    "# Overall\n",
    "\n",
    "I believe that my features in the project all individually meet the CPT requirements as they contain all that is requested at a fairly advanced level. "
   ]
  }
 ],
 "metadata": {
  "kernelspec": {
   "display_name": "Python 3",
   "language": "python",
   "name": "python3"
  },
  "language_info": {
   "codemirror_mode": {
    "name": "ipython",
    "version": 3
   },
   "file_extension": ".py",
   "mimetype": "text/x-python",
   "name": "python",
   "nbconvert_exporter": "python",
   "pygments_lexer": "ipython3",
   "version": "3.12.3"
  }
 },
 "nbformat": 4,
 "nbformat_minor": 2
}
