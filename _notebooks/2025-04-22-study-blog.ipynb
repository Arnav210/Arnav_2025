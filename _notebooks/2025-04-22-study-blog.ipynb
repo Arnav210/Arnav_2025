{
 "cells": [
  {
   "cell_type": "raw",
   "metadata": {
    "vscode": {
     "languageId": "raw"
    }
   },
   "source": [
    "---\n",
    "layout: post\n",
    "toc: true\n",
    "categories: Study Blog\n",
    "title: Study Blog\n",
    "description: \n",
    "courses: { csp: {week: 25} }\n",
    "type: ccc\n",
    "---"
   ]
  },
  {
   "cell_type": "markdown",
   "metadata": {},
   "source": [
    "# 2021 MCQ Score: 59/70\n",
    "\n",
    "Topics to improve on: \n",
    "\n",
    "    - types of errors and their 'symptoms' \n",
    "    - specific intricacies of the internet\n",
    "    - correctly identify errors in programs\n",
    "    - correctly assess program outputs\n",
    "    - encryption types and keys\n",
    "    - parallel computing"
   ]
  },
  {
   "cell_type": "markdown",
   "metadata": {},
   "source": [
    "# 2020 MCQ Score: 57/67\n",
    "\n",
    "Topics to improve on:\n",
    "\n",
    "    - correctly identify errors in progrmas\n",
    "    - correctly assess program outputs\n",
    "    - learn how bits work (how to go from decimal to bit and more about bits)\n",
    "    - binary search algorithms\n",
    "    - program run time"
   ]
  },
  {
   "cell_type": "markdown",
   "metadata": {},
   "source": [
    "# 2018 MCQ Score: 56/66\n",
    "\n",
    "Topics to improve on:\n",
    "    - string manipulation\n",
    "    - identify errors in programs\n",
    "    - identify correct procedures\n",
    "    - undecidable problems and infinite loops\n",
    "    - logic gates\n",
    "    - learn bits and how they work\n",
    "    - program run time\n",
    "    - data analyzation"
   ]
  },
  {
   "cell_type": "markdown",
   "metadata": {},
   "source": [
    "# Current Areas of Improvement\n",
    "\n",
    "- types of errors and their symptoms\n",
    "- specific details regarding the internet\n",
    "- correctly identifying errors in programs\n",
    "- correctly identifying working procedures / code segments\n",
    "- encryption types and keys\n",
    "- parallel computing\n",
    "- string manipulation\n",
    "- data analyzation\n",
    "\n",
    "# Improvement Process\n",
    "\n",
    "Practice more: \n",
    "- correctly identifying errors in programs\n",
    "- correctly identifying working procedures / code segments\n",
    "- string manipulation\n",
    "- data analyzation\n",
    "\n",
    "Learn topic, terms, concepts:\n",
    "- types of errors and their symptoms\n",
    "- specific details regarding the Internet\n",
    "- encryption types and keys\n",
    "- parallel computing"
   ]
  },
  {
   "cell_type": "markdown",
   "metadata": {},
   "source": [
    "# Learning\n",
    "\n",
    "### Types of errors and their symptoms\n",
    "\n",
    "### The Internet\n",
    "\n",
    "### Encryption Types and Keys\n",
    "\n",
    "### Parallel Computing"
   ]
  }
 ],
 "metadata": {
  "language_info": {
   "name": "python"
  }
 },
 "nbformat": 4,
 "nbformat_minor": 2
}
