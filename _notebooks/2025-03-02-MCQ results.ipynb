{
 "cells": [
  {
   "cell_type": "raw",
   "metadata": {
    "vscode": {
     "languageId": "raw"
    }
   },
   "source": [
    "---\n",
    "layout: post\n",
    "title: MCQ Results and Review\n",
    "description: Reviewing my performance on the latest MCQ\n",
    "type: issues \n",
    "comments: true\n",
    "---"
   ]
  },
  {
   "cell_type": "markdown",
   "metadata": {},
   "source": [
    "# MCQ Results and Review"
   ]
  },
  {
   "cell_type": "markdown",
   "metadata": {},
   "source": [
    "## Score: 57 / 67\n",
    "\n",
    "## Time Spent: 02:04:06\n",
    "\n",
    "## Missed Questions:\n",
    "\n",
    "- 6\n",
    "- 9\n",
    "- 12\n",
    "- 16\n",
    "- 20\n",
    "- 47\n",
    "- 49\n",
    "- 50\n",
    "- 62\n",
    "- 65\n",
    "\n",
    "## Areas to Work on:\n",
    "\n",
    "- Strings\n",
    "- Conditionals\n",
    "- Binary Search\n",
    "- Safe Computing\n",
    "- Undecidable Problems\n",
    "- Binary Numbers"
   ]
  },
  {
   "cell_type": "markdown",
   "metadata": {},
   "source": [
    "# My Assessment:\n",
    "\n",
    "Overall, I believe that I understood most of the questions. However, there are a couple of main topics that I need to work on. Firstly, I need to learn how bits work, what they are used for, and things related to that. Currently, I was guessing on all of the questions surrounding bits because I just didn't understand how they worked. Second, I need to learn the licenses and other common names on the internet, for example the Creative Commons license. I also need to make sure I know things such as how IP addresses are assigned. I didn't have any knowledge surrounding these topics, so I now know what I need to look up and learn. Finally, the strings and conditionals. There were only two problems asking about these, but I missed both of them. Both questions asked for two answers and, while I was able to get one of them, I somewhow missed the second. To improve, I need to practice more with those types of problems to better be able to gauge exactly what each code block is doing."
   ]
  },
  {
   "cell_type": "code",
   "execution_count": null,
   "metadata": {
    "vscode": {
     "languageId": "html"
    }
   },
   "outputs": [],
   "source": [
    "<div class=\"utterances\"></div>\n",
    "<script src=\"https://utteranc.es/client.js\"\n",
    "  repo=\"YOUR_GITHUB_USERNAME/YOUR_REPOSITORY_NAME\"\n",
    "  issue-number=\"1\"  \n",
    "  theme=\"github-light\"\n",
    "  crossorigin=\"anonymous\"\n",
    "  async>\n",
    "</script>"
   ]
  }
 ],
 "metadata": {
  "language_info": {
   "name": "python"
  }
 },
 "nbformat": 4,
 "nbformat_minor": 2
}
