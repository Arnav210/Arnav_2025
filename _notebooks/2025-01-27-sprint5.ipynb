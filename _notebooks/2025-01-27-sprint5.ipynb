{
 "cells": [
  {
   "cell_type": "raw",
   "metadata": {
    "vscode": {
     "languageId": "raw"
    }
   },
   "source": [
    "---\n",
    "layout: post\n",
    "title: Sprint 5 Blog\n",
    "description: Blog with details for sprint 5\n",
    "type: issues \n",
    "comments: true\n",
    "---"
   ]
  },
  {
   "cell_type": "markdown",
   "metadata": {},
   "source": [
    "## Purpose\n",
    "\n",
    "- The Purpose of my overall group's program is for people to have a designated place to explore and review books as well as post their favorite books for people to find. We accomplish this through a variety of pages such as the Moderator's Picks page and the pages inside of it, like the Book Gallery.\n",
    "\n",
    "- My individual features involve the preferences page as well as the usersDb database. The preferences page allows users to enhance their visit to the website by changing the colors of different elements, such as the text and the menu of the website. The usersDb database allows users to post their name as well as their favorite book to allow people to find more new books that others enjoy."
   ]
  },
  {
   "cell_type": "markdown",
   "metadata": {},
   "source": [
    "## Input/Output requests\n",
    "\n",
    "(Shown in Live Review)"
   ]
  },
  {
   "cell_type": "markdown",
   "metadata": {},
   "source": [
    "## List Requests\n",
    "\n",
    "- Firstly, in the database, lists are used to store the user records that are taken from the database using \"users = usersDb.query.all()\". The user information is stored inside a list that is filled with dictionaries and returned in JSON format. As mentioned, each user is stored inside its own dictionary, with each piece of information being stored as a key/value pair. \n",
    "\n",
    "- Second, to convert JSON into DOM format, the JSON data (in this case, the list of users) is fetched and then systematically (each user) converted into javascript objects, such as a <div> object.\n",
    "\n",
    "- In order to extract python lists, we use queries from the database that use a 3rd party library; more specifically, they use SQLAlchemy. We use usersDb.query.all() in order to extract these lists."
   ]
  },
  {
   "cell_type": "code",
   "execution_count": null,
   "metadata": {
    "vscode": {
     "languageId": "javascript"
    }
   },
   "outputs": [],
   "source": [
    "users.forEach((user) => {\n",
    "                    const div = document.createElement('div');\n",
    "                    div.classList.add('user');\n",
    "                    div.innerHTML = `\n",
    "                        <p>Name: <span>${user.name}</span></p>\n",
    "                        <p>Fav_Book: <span>${user.fav_book}</span></p>\n",
    "                        <p>User ID: <span>${user.user_id}</span></p>\n",
    "                        <button onclick=\"deleteUser(${user.user_id})\">Delete</button>\n",
    "                    `;\n",
    "                    usersContainer.appendChild(div);"
   ]
  },
  {
   "cell_type": "code",
   "execution_count": null,
   "metadata": {
    "vscode": {
     "languageId": "javascript"
    }
   },
   "outputs": [],
   "source": [
    "@token_required\n",
    "        def get(self):\n",
    "            \"\"\"\n",
    "            Retrieve all users.\n",
    "            \"\"\"\n",
    "            try:\n",
    "                users = usersDb.query.all()\n",
    "                json_ready = [user.read() for user in users]\n",
    "                return jsonify(json_ready), 200\n",
    "            except Exception as e:\n",
    "                return {'message': f'Error fetching users: {str(e)}'}, 500"
   ]
  },
  {
   "cell_type": "markdown",
   "metadata": {},
   "source": [
    "## CRUD Operations\n",
    "\n",
    "- Create:\n",
    "    creates a new user with data for name, favorite_book, and user_id\n",
    "- Read:\n",
    "    the program reads the JSON and converts it into DOM format for people to view on the frontend\n",
    "- Update:\n",
    "    updates a user's columns, useful if their favorite book changes\n",
    "- Delete:\n",
    "    allows for a user to be deleted from the database (need to add admin so that not anyone can use this)\n"
   ]
  },
  {
   "cell_type": "markdown",
   "metadata": {},
   "source": [
    "## Algorithmic Code Request\n",
    "\n",
    "Firstly, the get method is used to get the user information. This pairs with the post method that then posts the user information to the frontend for people to view. In case there is incorrect information, a put method is used to replace parts or all of a user's information. Finally, the delete method is placed to completely delete a user in case they don't want their profile up their anymore. \n",
    "\n",
    "Next, a method with sequencing, selection, and iteration is the GET method. This uses sequencing by retrieving the database's data and converting the rows from the database into dictionaries. Next, _____. Finally, the method uses a loop to process each row of data that is obtained from the database to convert them into dictionaries. \n",
    "\n",
    "When looking at the GET method, the parameters are the JSON objects that the database sends. Then, the method cycles through the data and returns it in DOM format for the frontend. When trying to insert data into the database, this is reversed and the parameters is the DOM data and the outputs are the JSON objects."
   ]
  },
  {
   "cell_type": "code",
   "execution_count": null,
   "metadata": {
    "vscode": {
     "languageId": "javascript"
    }
   },
   "outputs": [],
   "source": [
    "@app.route('/usersDb', methods=['GET', 'POST'])\n",
    "def manage_users():\n",
    "    if request.method == 'GET':\n",
    "        # Fetch all users from the database\n",
    "        try:\n",
    "            conn = sqlite3.connect(DB_PATH)\n",
    "            cursor = conn.cursor()\n",
    "            cursor.execute(\"SELECT * FROM usersDb\")\n",
    "            users = [\n",
    "                {\"table_id\": row[0], \"name\": row[1], \"fav_book\": row[2], \"user_id\": row[3]} \n",
    "                for row in cursor.fetchall()\n",
    "            ]\n",
    "            conn.close()\n",
    "            return jsonify(users), 200\n",
    "        except Exception as e:\n",
    "            return jsonify({\"error\": str(e)}), 500"
   ]
  },
  {
   "cell_type": "markdown",
   "metadata": {},
   "source": [
    "## Call to Algorithm Request\n",
    "\n",
    " - Call to method: uses fetch to get the data.\n",
    "\n",
    " - This method uses the data to create a user and returns it in JSON. This response is used in the frontend to update its UI and add the new user.\n",
    "\n",
    " - If the method finds an issue, it will return an error message based on the type of issue. If the information is missing required parts, like the user age, then it will return a message saying that all fields are required, for example. If you were to change the POST method to a GET method, then there would be an error with finding the user in the database, as it does not exist. "
   ]
  },
  {
   "cell_type": "code",
   "execution_count": null,
   "metadata": {
    "vscode": {
     "languageId": "javascript"
    }
   },
   "outputs": [],
   "source": [
    "if not name or fav_book is None or user_id is None:\n",
    "            return jsonify({\"error\": \"Name, fav_book, and user_id are required\"}), 400"
   ]
  },
  {
   "cell_type": "code",
   "execution_count": null,
   "metadata": {
    "vscode": {
     "languageId": "javascript"
    }
   },
   "outputs": [],
   "source": [
    "except sqlite3.IntegrityError:\n",
    "            return jsonify({\"error\": \"User ID must be unique\"}), 400\n",
    "        except Exception as e:\n",
    "            return jsonify({\"error\": str(e)}), 500"
   ]
  },
  {
   "cell_type": "code",
   "execution_count": null,
   "metadata": {
    "vscode": {
     "languageId": "javascript"
    }
   },
   "outputs": [],
   "source": [
    "if rows_deleted == 0:\n",
    "                return jsonify({\"error\": \"User not found\"}), 404"
   ]
  }
 ],
 "metadata": {
  "kernelspec": {
   "display_name": "venv",
   "language": "python",
   "name": "python3"
  },
  "language_info": {
   "codemirror_mode": {
    "name": "ipython",
    "version": 3
   },
   "file_extension": ".py",
   "mimetype": "text/x-python",
   "name": "python",
   "nbconvert_exporter": "python",
   "pygments_lexer": "ipython3",
   "version": "3.12.3"
  }
 },
 "nbformat": 4,
 "nbformat_minor": 2
}
