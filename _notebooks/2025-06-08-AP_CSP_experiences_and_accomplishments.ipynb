{
 "cells": [
  {
   "cell_type": "raw",
   "id": "3a5f12db",
   "metadata": {
    "vscode": {
     "languageId": "raw"
    }
   },
   "source": [
    "---\n",
    "layout: post\n",
    "title: AP CSP Experiences and Accomplishments\n",
    "description: My experiences and accomplishments throughout the year of AP CSP, with a focus on Poway Auto (my project from trimester 3)\n",
    "type: issues \n",
    "comments: true\n",
    "---"
   ]
  },
  {
   "cell_type": "markdown",
   "id": "b4edc879",
   "metadata": {},
   "source": [
    "### Poway Auto Overview\n",
    "\n",
    "Poway Auto is the name of the project that I created in trimester 3, and it is something that I am very proud of. It is a web page with full-stack features that optimizes routing and gives you multiple, accurate time estimates for multiple routes using data from SANDAG open data portal, localized for the city of Poway. I built this project working with Pilot City in an attempt to not only win an internship, but also create something impactful. \n",
    "\n",
    "### Key Tools\n",
    "\n",
    "- GitHub Pages (frontend deployment)\n",
    "- AWS (backend deployment)\n",
    "- Flask (API's and databases in the backend)\n",
    "- Machine Learning (predicting fastest routes and providing accurate time estimates)\n",
    "\n",
    "### My Contributions\n",
    "\n",
    "- Planned out project features\n",
    "- Developed backend database for favorite locations\n",
    "- Created daily routine feature for users' day-to-day convenience\n",
    "- Found the dataset that we used with machine learning\n",
    "- Adjusted feature plans and helped manage our team"
   ]
  },
  {
   "cell_type": "markdown",
   "id": "0be60bf3",
   "metadata": {},
   "source": [
    "# Skills I Learned Throughout the Year\n",
    "\n",
    "### Programming Languages and Skills\n",
    "\n",
    "- Languages:\n",
    "     - Python\n",
    "     - JavaScript\n",
    "     - HTML\n",
    "     - CSS\n",
    "    \n",
    "- Skills:\n",
    "     - Programming Logic and Methods\n",
    "     - APIs (backend creation and calling them from frontend)\n",
    "     - Databases and other data storing methods (like local storage and simpler things like lists, dictionaries, etc.)\n",
    "\n",
    "### Frontend Development\n",
    "\n",
    "- HTML (for the actual elements)\n",
    "- CSS (to style the elements)\n",
    "- Tailwind (to style the elements and make them responsive)\n",
    "- UI Updates \n",
    "- Embedding (such as a Leaflet map)\n",
    "\n",
    "### Backend Development\n",
    "\n",
    "- APIs (creation and calls)\n",
    "- Databases (using SQLITe, creating them, updating them, using specific elements from them)\n",
    "- Persistent Storage (with the above two methods)\n",
    "- Flask Routing\n",
    "- AWS Deployment (for 24/7 access)\n",
    "\n",
    "### Team Practices\n",
    "\n",
    "- GitHub (creating, forking, managing a repository, git commands such as git pull, git stash, and git pop for multiple people to work on the same repository at the same time, descriptive commit names)\n",
    "- Sprints, Live Reviews, Iterative Development (organization, ensuring smooth and streamlined progress, fixing mistakes or shortcomings early on so that it doesn't become a huge issue later, **being able to present effectively and efficiently**)\n",
    "- Project Management and Planning (using Figma, KanBan boards, and other methods to plan out a project and ensure that everyone is on task)"
   ]
  },
  {
   "cell_type": "markdown",
   "id": "c2b10bdc",
   "metadata": {},
   "source": [
    "# Certificates, NFTs, and Why I Earned Them\n",
    "\n",
    "## Certificates\n",
    "\n",
    "### Foundation\n",
    "\n",
    "- Tools Basics: I thoroughly learned many commands and ways to effectively use Ubuntu, the Terminal, and Git commands (like the commonly used git stash, git stash pop, and git pull), learned how to write descriptive commit messages to help myself and my team, and overall learned to be organized and work together with these tools.\n",
    "\n",
    "- GitHub Pages: Using GitHub, I built a fully functional frontend using tools like HTML, JavaScript, and CSS, and used GitHub Pages to deploy it for it to always be accessible. On top of this, I also ensured that it was always updated with the latest features and changes, and fully checked every change before committing it.\n",
    "\n",
    "### CSP\n",
    "\n",
    "- Data Analysis with Python: I used python for every backend file, in each method I created, for every API, for every database, and also using pandas to clean and use parts of datasets with machine learning, and I also learned a lot about saving user data and creating test data that isn't just 123, but an actual example of something a user would enter on top of analyzing data.\n",
    "\n",
    "- Deployment - Linux/Cyber concepts: I deployed a backend with Ubuntu, AWS, and other smaller parts such as Flask and NGINX to make sure the backend was always accessible and ready to be used. I also made sure that it was secure, converting the web page from HTTP to HTTPS.\n",
    "\n",
    "## NFTs\n",
    "\n",
    "### Foundation\n",
    "\n",
    "- Personalized Website: Over the course of the year, I have made not one, not two, but many websites with unique frontends, personalized features, and also kept my own personal website updated, containing my initial work as well as my experiences and progress throughout the year. I made sure to make new UI features that make things more convenient for users, and also made sure to have varying yet consistent styles and colors throughout pages.\n",
    "\n",
    "### CSP\n",
    "\n",
    "- Innovative Cybersecurity Tool: I have worked diligently to not only have a feature be functional, but also test error cases and make sure to handle them properly, providing relevant information on top of it to make issues easy to identify and fix, created methods to authorize requests and block unauthorized requests, prevented something crashing or breaking due to an invalid input, and overall made sure everything was secure."
   ]
  },
  {
   "cell_type": "markdown",
   "id": "fc818c09",
   "metadata": {},
   "source": [
    "# My Final Reflection of the Year\n",
    "\n",
    "Overall, I have had a lot of fun in AP CSP, and I have experienced an amount of growth unknown to me. At the start of the year, I was shy, clueless, and terrible at working with others and presenting. However, after having the opportunity to work on various engaging projects and being stimulated on a daily basis, I have improved a lot with both my technical skills and understanding and my ability to talk to others and effectively work with them. I have also earned credentials and NFTs that serve as a testament to my growth. I am proud of where I've come and also extremely grateful to Mr. Mortenson and the peopel around me for giving me the environment to be the best that I can be right now."
   ]
  },
  {
   "cell_type": "markdown",
   "id": "5dd798c4",
   "metadata": {},
   "source": [
    "<a href=\"https://www.linkedin.com/in/arnav-mittal-b45663365/\">LinkedIn</a>"
   ]
  }
 ],
 "metadata": {
  "kernelspec": {
   "display_name": "Python 3",
   "language": "python",
   "name": "python3"
  },
  "language_info": {
   "codemirror_mode": {
    "name": "ipython",
    "version": 3
   },
   "file_extension": ".py",
   "mimetype": "text/x-python",
   "name": "python",
   "nbconvert_exporter": "python",
   "pygments_lexer": "ipython3",
   "version": "3.13.0"
  }
 },
 "nbformat": 4,
 "nbformat_minor": 5
}
