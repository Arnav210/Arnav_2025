{
 "cells": [
  {
   "cell_type": "raw",
   "metadata": {
    "vscode": {
     "languageId": "raw"
    }
   },
   "source": [
    "---\n",
    "layout: post\n",
    "title: Student Panel Blog\n",
    "description: Blog with thoughts from the student panel\n",
    "type: issues \n",
    "comments: true\n",
    "---"
   ]
  },
  {
   "cell_type": "markdown",
   "metadata": {},
   "source": [
    "Through the student panel and the discussion, I was able to gain very useful information that I wouldn't have known otherwise. Firstly, I now realize just how much communication is key. I realize that I definetely have an issue with communication and I understand that I need to take steps to solve it. Other points they mentioned revolved around how to create projects. They said that to come up with ideas, just start small and keep building. Also, they said to talk to new people and figure out what problems exist so that you can come up with real world solutions to those problems. This is interesting and I think that over periods of time that I am free, I would like to start doing something like this, likely not to the scale where I can solve something but just something to get my creativity flowing. Finally, just one thing I noticed that makes me place an increased amount of value on the course is that scrum and agile methodology is used a lot in the real world. Overall, throughout the process, I enjoyed listening to them and thought that the discussion was impactful and helped me. "
   ]
  }
 ],
 "metadata": {
  "language_info": {
   "name": "python"
  }
 },
 "nbformat": 4,
 "nbformat_minor": 2
}
