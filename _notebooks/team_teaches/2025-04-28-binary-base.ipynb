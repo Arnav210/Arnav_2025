{
 "cells": [
  {
   "cell_type": "raw",
   "metadata": {
    "vscode": {
     "languageId": "raw"
    }
   },
   "source": [
    "---\n",
    "layout: post\n",
    "toc: true\n",
    "categories: Binary Base\n",
    "title: Binary Base\n",
    "description: \n",
    "courses: { csp: {week: 25} }\n",
    "type: ccc\n",
    "---"
   ]
  },
  {
   "cell_type": "markdown",
   "metadata": {},
   "source": [
    "#### Btw: I did all of the games but I had to click run all and I didn't want to redo all of them"
   ]
  },
  {
   "cell_type": "markdown",
   "metadata": {},
   "source": [
    "### Popcorn Hack 1"
   ]
  },
  {
   "cell_type": "code",
   "execution_count": 24,
   "metadata": {},
   "outputs": [
    {
     "name": "stdout",
     "output_type": "stream",
     "text": [
      "11\n"
     ]
    }
   ],
   "source": [
    "binary_num = \"1011\"\n",
    "\n",
    "decimal_value = 0\n",
    "for pos, x in enumerate(reversed(binary_num)):\n",
    "    if x == \"1\":\n",
    "        decimal_value += 2 ** pos\n",
    "\n",
    "print(decimal_value)\n"
   ]
  },
  {
   "cell_type": "markdown",
   "metadata": {},
   "source": [
    "### Popcorn Hack 2"
   ]
  },
  {
   "cell_type": "code",
   "execution_count": 25,
   "metadata": {},
   "outputs": [
    {
     "name": "stdout",
     "output_type": "stream",
     "text": [
      "Add the following binary numbers:\n",
      "Number 1: 110001\n",
      "Number 2: 1101000\n",
      "Oops! The correct answer was 10011001.\n",
      "Your score: -5 points.\n"
     ]
    }
   ],
   "source": [
    "import random\n",
    "import time\n",
    "\n",
    "def binary_addition_battle():\n",
    "    # Generate two random binary numbers (up to 8 bits)\n",
    "    num1 = bin(random.randint(0, 255))[2:]\n",
    "    num2 = bin(random.randint(0, 255))[2:]\n",
    "    \n",
    "    # Show the binary numbers\n",
    "    print(f\"Add the following binary numbers:\")\n",
    "    print(f\"Number 1: {num1}\")\n",
    "    print(f\"Number 2: {num2}\")\n",
    "    \n",
    "    # Start the timer\n",
    "    start_time = time.time()\n",
    "    \n",
    "    # Ask the user for the sum\n",
    "    user_answer = input(\"Your answer (in binary): \")\n",
    "    \n",
    "    # End the timer\n",
    "    end_time = time.time()\n",
    "    \n",
    "    # Calculate the correct binary sum\n",
    "    correct_answer = bin(int(num1, 2) + int(num2, 2))[2:]\n",
    "    \n",
    "    # Check if the answer is correct\n",
    "    if user_answer == correct_answer:\n",
    "        print(f\"Correct! You took {end_time - start_time:.2f} seconds.\")\n",
    "        print(f\"Your score: +10 points!\")\n",
    "    else:\n",
    "        print(f\"Oops! The correct answer was {correct_answer}.\")\n",
    "        print(f\"Your score: -5 points.\")\n",
    "\n",
    "# Run the game\n",
    "binary_addition_battle()"
   ]
  },
  {
   "cell_type": "markdown",
   "metadata": {},
   "source": [
    "### Popcorn Hack 3"
   ]
  },
  {
   "cell_type": "code",
   "execution_count": 26,
   "metadata": {},
   "outputs": [
    {
     "name": "stdout",
     "output_type": "stream",
     "text": [
      "🧠 Binary Subtraction Challenge! 🧠\n",
      "\n",
      "Problem 1: 110001 - 11\n",
      "❌ Incorrect. The correct answer was 101110.\n",
      "\n",
      "Problem 2: 100000 - 10110\n",
      "❌ Incorrect. The correct answer was 1010.\n",
      "\n",
      "Problem 3: 101000 - 111\n",
      "❌ Incorrect. The correct answer was 100001.\n",
      "\n",
      "🎯 You got 0/3 correct!\n",
      "Thanks for practicing!\n"
     ]
    }
   ],
   "source": [
    "import random\n",
    "\n",
    "def binary_subtraction(bin1, bin2):\n",
    "    max_len = max(len(bin1), len(bin2))\n",
    "    bin1 = bin1.zfill(max_len)\n",
    "    bin2 = bin2.zfill(max_len)\n",
    "\n",
    "    result = ''\n",
    "    borrow = 0\n",
    "\n",
    "    for i in range(max_len-1, -1, -1):\n",
    "        bit1 = int(bin1[i])\n",
    "        bit2 = int(bin2[i])\n",
    "\n",
    "        sub = bit1 - bit2 - borrow\n",
    "\n",
    "        if sub == 0 or sub == 1:\n",
    "            result = str(sub) + result\n",
    "            borrow = 0\n",
    "        elif sub == -1:\n",
    "            result = '1' + result\n",
    "            borrow = 1\n",
    "        elif sub == -2:\n",
    "            result = '0' + result\n",
    "            borrow = 1\n",
    "\n",
    "    result = result.lstrip('0') or '0'\n",
    "    return result\n",
    "\n",
    "print(\"🧠 Binary Subtraction Challenge! 🧠\")\n",
    "score = 0\n",
    "total_questions = 3\n",
    "\n",
    "for question_num in range(1, total_questions + 1):\n",
    "    num1 = random.randint(8, 63)\n",
    "    num2 = random.randint(0, num1)\n",
    "\n",
    "    bin1 = bin(num1)[2:]\n",
    "    bin2 = bin(num2)[2:]\n",
    "\n",
    "    print(f\"\\nProblem {question_num}: {bin1} - {bin2}\")\n",
    "    user_answer = input(\"Your answer: \").strip()\n",
    "\n",
    "    correct_answer = binary_subtraction(bin1, bin2)\n",
    "\n",
    "    if user_answer == correct_answer:\n",
    "        print(\"✅ Correct!\")\n",
    "        score += 1\n",
    "    else:\n",
    "        print(f\"❌ Incorrect. The correct answer was {correct_answer}.\")\n",
    "\n",
    "print(f\"\\n🎯 You got {score}/{total_questions} correct!\")\n",
    "print(\"Thanks for practicing!\")"
   ]
  },
  {
   "cell_type": "markdown",
   "metadata": {},
   "source": [
    "### AP MC Questions\n",
    "\n",
    "q28: D\n",
    "\n",
    "q36: B\n",
    "\n",
    "q42: D\n",
    "\n",
    "q44: B"
   ]
  },
  {
   "cell_type": "markdown",
   "metadata": {},
   "source": [
    "### Homework Hack\n",
    "\n",
    "1. To convert binary to decimal, you start at the last position and if the number is 1, you do 2^position (starting from 0) and go through the number.\n",
    "\n",
    "2. 235"
   ]
  }
 ],
 "metadata": {
  "kernelspec": {
   "display_name": "venv",
   "language": "python",
   "name": "python3"
  },
  "language_info": {
   "codemirror_mode": {
    "name": "ipython",
    "version": 3
   },
   "file_extension": ".py",
   "mimetype": "text/x-python",
   "name": "python",
   "nbconvert_exporter": "python",
   "pygments_lexer": "ipython3",
   "version": "3.12.3"
  }
 },
 "nbformat": 4,
 "nbformat_minor": 2
}
