{
 "cells": [
  {
   "cell_type": "raw",
   "metadata": {
    "vscode": {
     "languageId": "raw"
    }
   },
   "source": [
    "---\n",
    "layout: post\n",
    "toc: true\n",
    "categories: Base 64\n",
    "title: Base 64\n",
    "description: \n",
    "courses: { csp: {week: 25} }\n",
    "type: ccc\n",
    "---"
   ]
  },
  {
   "cell_type": "markdown",
   "metadata": {},
   "source": [
    "### Popcorn Hack 1\n",
    "\n",
    "Vector Images"
   ]
  },
  {
   "cell_type": "markdown",
   "metadata": {},
   "source": [
    "### Practice MCQ\n",
    "\n",
    "B"
   ]
  },
  {
   "cell_type": "markdown",
   "metadata": {},
   "source": [
    "### Popcorn Hack 2\n",
    "\n",
    "Base64 is not a secure encryption and it also increases data size"
   ]
  },
  {
   "cell_type": "markdown",
   "metadata": {},
   "source": [
    "### Practice MCQ\n",
    "\n",
    "B"
   ]
  },
  {
   "cell_type": "markdown",
   "metadata": {},
   "source": [
    "### Homework Hack\n",
    "\n"
   ]
  },
  {
   "cell_type": "markdown",
   "metadata": {},
   "source": [
    "A hex color code is a method to show colors using hexadecimal values. I have used this many times to style pages with CSS, in the current Pilot City project as well as the project I made last trimester. \n",
    "\n",
    "Base64 is an encoding system that converts binary data to text but increases data size and is not secure. It is used to embed images in HTMl without accessing external files, which we also used in our project last trimester in order to display some images on our page. \n",
    "\n",
    "Base64 can be used instead of a regular image file in order to reduce the reliance on external URLs and also to send fewer HTTP requests. In our Pilot City project, we used Base64 to create a small image/button that switches from light to dark mode (and other things of course)."
   ]
  }
 ],
 "metadata": {
  "language_info": {
   "name": "python"
  }
 },
 "nbformat": 4,
 "nbformat_minor": 2
}
