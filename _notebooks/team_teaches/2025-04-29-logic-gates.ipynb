{
 "cells": [
  {
   "cell_type": "raw",
   "metadata": {
    "vscode": {
     "languageId": "raw"
    }
   },
   "source": [
    "---\n",
    "layout: post\n",
    "toc: true\n",
    "categories: Logic Gates\n",
    "title: Logic Gates\n",
    "description: \n",
    "courses: { csp: {week: 25} }\n",
    "type: ccc\n",
    "---"
   ]
  },
  {
   "cell_type": "markdown",
   "metadata": {},
   "source": [
    "### Popcorn Hack 1\n",
    "\n",
    "Real world example of AND logic gate:\n",
    "\n",
    "2 factor authentication - must have password AND other method of verification\n",
    "\n",
    "This is helpful to make accounts and pages nore secure for users. "
   ]
  },
  {
   "cell_type": "markdown",
   "metadata": {},
   "source": [
    "### Popcorn Hack 2\n",
    "\n",
    "A. (X AND Y) OR Z"
   ]
  },
  {
   "cell_type": "markdown",
   "metadata": {},
   "source": [
    "### Homework Hack "
   ]
  },
  {
   "cell_type": "code",
   "execution_count": null,
   "metadata": {},
   "outputs": [
    {
     "name": "stdout",
     "output_type": "stream",
     "text": [
      "1\n",
      "0\n",
      "0\n",
      "0\n"
     ]
    }
   ],
   "source": [
    "def secure_entry_system(keycard, pin):\n",
    "    def AND(a, b):\n",
    "        if a + b == 2:\n",
    "            return 1\n",
    "        else:\n",
    "            return 0\n",
    "\n",
    "\n",
    "    return AND(keycard, pin)\n",
    "\n",
    "# Test cases\n",
    "print(secure_entry_system(1, 1))  # Expected Output: 1 (Access Granted)\n",
    "print(secure_entry_system(0, 1))  # Expected Output: 0 (Access Denied)\n",
    "print(secure_entry_system(1, 0))  # Expected Output: 0 (Access Denied)\n",
    "print(secure_entry_system(0, 0))  # Expected Output: 0 (Access Denied)"
   ]
  }
 ],
 "metadata": {
  "kernelspec": {
   "display_name": "venv",
   "language": "python",
   "name": "python3"
  },
  "language_info": {
   "codemirror_mode": {
    "name": "ipython",
    "version": 3
   },
   "file_extension": ".py",
   "mimetype": "text/x-python",
   "name": "python",
   "nbconvert_exporter": "python",
   "pygments_lexer": "ipython3",
   "version": "3.12.3"
  }
 },
 "nbformat": 4,
 "nbformat_minor": 2
}
