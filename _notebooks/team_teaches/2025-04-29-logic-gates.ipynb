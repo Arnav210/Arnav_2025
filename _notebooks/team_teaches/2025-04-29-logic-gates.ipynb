{
 "cells": [
  {
   "cell_type": "raw",
   "metadata": {
    "vscode": {
     "languageId": "raw"
    }
   },
   "source": [
    "---\n",
    "layout: post\n",
    "toc: true\n",
    "categories: Logic Gates\n",
    "title: Logic Gates\n",
    "description: \n",
    "courses: { csp: {week: 25} }\n",
    "type: ccc\n",
    "---"
   ]
  },
  {
   "cell_type": "markdown",
   "metadata": {},
   "source": [
    "### Popcorn Hack 1\n",
    "\n",
    "Real world example of AND logic gate:\n",
    "\n",
    "2 factor authentication - must have password AND other method of verification\n",
    "\n",
    "This is helpful to make accounts and pages nore secure for users. "
   ]
  },
  {
   "cell_type": "markdown",
   "metadata": {},
   "source": [
    "### Popcorn Hack 2\n",
    "\n",
    "A. (X AND Y) OR Z"
   ]
  },
  {
   "cell_type": "markdown",
   "metadata": {},
   "source": [
    "### Homework Hack "
   ]
  },
  {
   "cell_type": "code",
   "execution_count": null,
   "metadata": {},
   "outputs": [],
   "source": [
    "def secure_entry_system(keycard, pin):\n",
    "    def AND(a, b):\n",
    "        return a & b  # AND logic\n",
    "\n",
    "\n",
    "    return AND(keycard, pin)\n",
    "\n",
    "# Test cases\n",
    "print(secure_entry_system(1, 1))  # Expected Output: 1 (Access Granted)\n",
    "print(secure_entry_system(0, 1))  # Expected Output: 0 (Access Denied)"
   ]
  }
 ],
 "metadata": {
  "language_info": {
   "name": "python"
  }
 },
 "nbformat": 4,
 "nbformat_minor": 2
}
