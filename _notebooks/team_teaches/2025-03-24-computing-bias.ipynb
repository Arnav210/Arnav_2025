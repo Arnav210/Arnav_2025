{
 "cells": [
  {
   "cell_type": "raw",
   "metadata": {
    "vscode": {
     "languageId": "raw"
    }
   },
   "source": [
    "---\n",
    "layout: post\n",
    "toc: true\n",
    "categories: Computing Bias\n",
    "title: Computing Bias\n",
    "description: \n",
    "courses: { csp: {week: 25} }\n",
    "type: ccc\n",
    "---"
   ]
  },
  {
   "cell_type": "markdown",
   "metadata": {},
   "source": [
    "### Popcorn Hack #1\n",
    "\n",
    "Spotify is biased in a similar way to Netflix because it only recommends songs based on what you listen to, which may seem good, but it ends up only recommending the same couple of songs in one genre, making it very difficult to actually find new songs you enjoy. "
   ]
  },
  {
   "cell_type": "markdown",
   "metadata": {},
   "source": [
    "### Popcorn Hack #2\n",
    "\n",
    "Very similar to your example, I used to watch shows with my family all the time. However, we decided to try out a couple of shows different from our tastes and now those shows are the majority of things we are being recommended, making it very difficult to find a show for all of us and spend time together that way."
   ]
  },
  {
   "cell_type": "markdown",
   "metadata": {},
   "source": [
    "### Popcorn Hack #3\n",
    "\n",
    "Some bias could sneak into the app's recommendations / performance evaluation by not taking into account users who have physical problems that lower their ability to excercise. The app could take user input that asks them to enter any health problems they may have and shape their fitness goals around those problems. Another few inputs the app could take would be age and weight, which should also allow the app to change the difficulty level of a fitness plan. "
   ]
  },
  {
   "cell_type": "markdown",
   "metadata": {},
   "source": [
    "### Homework hack #1\n",
    "\n",
    "1. Spotify\n",
    "2. Spotify has very similar and generalized recommendations in a playlist that may have more diverse music or very specific genres which makes it difficult for people to enjoy music more than the couple of songs that they already know. This is a large problem because people's music choices change often and also people may get bored of the same songs, and if so, they would need a source to get more good songs for them.\n",
    "3. This bias might be being caused by a lack of developing the AI that recommends songs because it can only recommend a similar genre rather than the same type of sound. This is interesting, however, because in Spotify Wrapped it seems to pinpoint the exact type of music that you have listened to, which the recommendations don't seem to mirror.\n",
    "4. One solution would be to develop the AI further and allow it to find differences between more specific types of songs so that the user enjoys their recommendations more, but also for spotify to provide playlists that allow the user to discover new and different music"
   ]
  }
 ],
 "metadata": {
  "language_info": {
   "name": "python"
  }
 },
 "nbformat": 4,
 "nbformat_minor": 2
}
