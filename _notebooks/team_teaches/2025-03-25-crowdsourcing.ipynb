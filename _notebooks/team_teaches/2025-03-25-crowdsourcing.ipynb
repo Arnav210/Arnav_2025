{
 "cells": [
  {
   "cell_type": "raw",
   "metadata": {
    "vscode": {
     "languageId": "raw"
    }
   },
   "source": [
    "---\n",
    "layout: post\n",
    "toc: true\n",
    "categories: CSP Crowdsourcing\n",
    "title: CSP Crowdsourcing\n",
    "description: \n",
    "courses: { csp: {week: 25} }\n",
    "type: ccc\n",
    "---"
   ]
  },
  {
   "cell_type": "markdown",
   "metadata": {},
   "source": [
    "### Mango Introduction\n",
    "\n",
    "8 - seemed like it was lagging your computer slightly"
   ]
  },
  {
   "cell_type": "markdown",
   "metadata": {},
   "source": [
    "### Popcorn Hack 3\n",
    "\n",
    "One example of crowdsourcing is GoFundMe which allows people to create a place where others are able to give support in order to support either themselves or a public cause. Many people use this when they are struggling with something like homelessness or need some sort of treatment that they can't pay for, and people are able to come together and pool some money for them."
   ]
  },
  {
   "cell_type": "markdown",
   "metadata": {},
   "source": [
    "### Homework Hack\n",
    "\n",
    "2 pop songs: \n",
    "- The Weeknd – \"Save Your Tears\" (2020)\n",
    "- Måneskin – \"Beggin’\" (2021)"
   ]
  }
 ],
 "metadata": {
  "kernelspec": {
   "display_name": "venv",
   "language": "python",
   "name": "python3"
  },
  "language_info": {
   "codemirror_mode": {
    "name": "ipython",
    "version": 3
   },
   "file_extension": ".py",
   "mimetype": "text/x-python",
   "name": "python",
   "nbconvert_exporter": "python",
   "pygments_lexer": "ipython3",
   "version": "3.12.3"
  }
 },
 "nbformat": 4,
 "nbformat_minor": 2
}
