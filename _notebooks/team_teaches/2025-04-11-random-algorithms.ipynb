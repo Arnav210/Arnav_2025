{
 "cells": [
  {
   "cell_type": "raw",
   "metadata": {},
   "source": [
    "---\n",
    "layout: post\n",
    "toc: true\n",
    "categories:\n",
    "title: Binary Search Algorithms\n",
    "description: \n",
    "courses: { csp: {week: 25} }\n",
    "type: ccc\n",
    "---"
   ]
  },
  {
   "cell_type": "markdown",
   "metadata": {},
   "source": [
    "### Popcorn Hack 2"
   ]
  },
  {
   "cell_type": "code",
   "execution_count": 198,
   "metadata": {},
   "outputs": [
    {
     "name": "stdout",
     "output_type": "stream",
     "text": [
      "Today’s random activity: Play other video games\n"
     ]
    }
   ],
   "source": [
    "# Popcorn Hack Number 2 (Random): Make a random algorithm to choose a daily activity:\n",
    "import random\n",
    "# Step 1: Define a list of activities\n",
    "activities = ['Play Brawl Stars', 'Do Homework', 'Talk to Friends', 'Discuss the Geo-Political State of the World', 'Play Deepwoken', 'Study for AP exams', 'Watch TV', 'Play other video games']\n",
    "# Step 2: Randomly choose an activity\n",
    "random_activity = random.choice(activities)\n",
    "# Step 3: Display the chosen activity\n",
    "print(f\"Today’s random activity: {random_activity}\")"
   ]
  },
  {
   "cell_type": "markdown",
   "metadata": {},
   "source": [
    "### Popcorn Hack 3"
   ]
  },
  {
   "cell_type": "code",
   "execution_count": 199,
   "metadata": {},
   "outputs": [
    {
     "name": "stdout",
     "output_type": "stream",
     "text": [
      "Arnav will be monitoring games!\n",
      "Ahaan will be monitoring bean bag toss!\n",
      "Weston will be monitoring movies!\n"
     ]
    }
   ],
   "source": [
    "# Popcorn Hack Number 3: Using a loops in random\n",
    "# This popcorn hack assigns an activity to each person\n",
    "import random\n",
    "hosts = ['Arnav', 'Ahaan', 'Weston']\n",
    "activities = ['code, code, code', 'games', 'bean bag toss', 'movies']\n",
    "# Randomly shuffle the list of activities to assign them randomly to the guests\n",
    "random.shuffle(activities)\n",
    "# Loop through each guest and assign them a random activity\n",
    "for i in range(len(hosts)):\n",
    "    print(f\"{hosts[i]} will be monitoring {activities[i]}!\")"
   ]
  },
  {
   "cell_type": "markdown",
   "metadata": {},
   "source": [
    "### Popcorn Hack 1"
   ]
  },
  {
   "cell_type": "code",
   "execution_count": 200,
   "metadata": {},
   "outputs": [
    {
     "name": "stdout",
     "output_type": "stream",
     "text": [
      "Number: 48\n"
     ]
    }
   ],
   "source": [
    "import random\n",
    "\n",
    "def number_spinner():\n",
    "    return random.randint(1, 100)\n",
    "\n",
    "number = number_spinner()\n",
    "print(f\"Number: {number}\")"
   ]
  },
  {
   "cell_type": "markdown",
   "metadata": {},
   "source": [
    "### Popcorn Hack 2\n",
    "\n",
    "I won against Ahaan (because of course I did)"
   ]
  },
  {
   "cell_type": "code",
   "execution_count": 201,
   "metadata": {},
   "outputs": [
    {
     "name": "stdout",
     "output_type": "stream",
     "text": [
      "Computer chose: scissors\n",
      "You chose: rock\n",
      "You win!\n"
     ]
    }
   ],
   "source": [
    "import random\n",
    "\n",
    "def play_rock_paper_scissors():\n",
    "    choices = ['rock', 'paper', 'scissors']\n",
    "    computer_choice = random.choice(choices)\n",
    "    user_choice = input(\"Enter your choice (rock, paper, or scissors): \")\n",
    "\n",
    "    if user_choice not in choices:\n",
    "        print(\"Invalid choice. Please try again.\")\n",
    "        return\n",
    "\n",
    "    print(\"Computer chose:\", computer_choice)\n",
    "    print(\"You chose:\", user_choice)\n",
    "\n",
    "    if user_choice == computer_choice:\n",
    "        print(\"It's a tie!\")\n",
    "    elif (user_choice == 'rock' and computer_choice == 'scissors') or (user_choice == 'paper' and computer_choice == 'rock') or (user_choice == 'scissors' and computer_choice == 'paper'):\n",
    "        print(\"You win!\")\n",
    "    else:\n",
    "        print(\"You lose!\")\n",
    "\n",
    "play_rock_paper_scissors()"
   ]
  },
  {
   "cell_type": "markdown",
   "metadata": {},
   "source": [
    "### MCQ Answers\n",
    "\n",
    "- C (first output cannot be because i is initially 2 and 1 is added after first output) \n",
    "- D (75 % chance so 1-75 in order to mimic that chance in the simulation)\n",
    "- C (cutting out data would make it less accurate)\n",
    "- D (the predator variable isn't changed after it is created, only used to change the numMice variable)"
   ]
  },
  {
   "cell_type": "markdown",
   "metadata": {},
   "source": [
    "### Homework Hack 1"
   ]
  },
  {
   "cell_type": "code",
   "execution_count": 202,
   "metadata": {},
   "outputs": [
    {
     "name": "stdout",
     "output_type": "stream",
     "text": [
      "['Arnav', 'Ahaan', 'Weston', 'Manas', 'Ahmed', 'Arhaan', 'Rutvik', 'Mihir', 'Gyutae', 'Rayhaan', 'Risha', 'Ameya', 'Arnav (P)', 'Xavier', 'Harshit']\n",
      "Team Perros y Gatos: ['Arnav', 'Ahmed', 'Arhaan', 'Mihir', 'Ameya', 'Harshit']\n",
      "Team Burrito Bandits: ['Ahaan', 'Rutvik', 'Gyutae', 'Arnav (P)']\n",
      "Team I Was Feeling a Lil Spanish: ['Weston', 'Manas', 'Rayhaan', 'Risha', 'Xavier']\n"
     ]
    }
   ],
   "source": [
    "students = ['Arnav', 'Ahaan', 'Weston', 'Manas', 'Ahmed', 'Arhaan', 'Rutvik', 'Mihir', 'Gyutae', 'Rayhaan', 'Risha', 'Ameya', 'Arnav (P)', 'Xavier', 'Harshit' ]\n",
    "\n",
    "team_perros_y_gatos = []\n",
    "team_burrito_bandits = []\n",
    "team_i_was_feeling_a_lil_spanish = []\n",
    "\n",
    "for x in range (len(students)):\n",
    "    y = random.randrange(0, 3)\n",
    "    if y == 0:\n",
    "        team_perros_y_gatos.append(students[x])\n",
    "    elif y == 1:\n",
    "        team_burrito_bandits.append(students[x])\n",
    "    else:\n",
    "        team_i_was_feeling_a_lil_spanish.append(students[x])\n",
    "\n",
    "print(students)\n",
    "print(\"Team Perros y Gatos:\", team_perros_y_gatos)\n",
    "print(\"Team Burrito Bandits:\", team_burrito_bandits)\n",
    "print(\"Team I Was Feeling a Lil Spanish:\", team_i_was_feeling_a_lil_spanish)"
   ]
  },
  {
   "cell_type": "markdown",
   "metadata": {},
   "source": [
    "### Homework Hack 2\n",
    "\n"
   ]
  },
  {
   "cell_type": "code",
   "execution_count": 203,
   "metadata": {},
   "outputs": [
    {
     "name": "stdout",
     "output_type": "stream",
     "text": [
      "Weather for day 1: cloudy\n",
      "Weather for day 2: sunny\n",
      "Weather for day 3: cloudy\n",
      "Weather for day 4: sunny\n",
      "Weather for day 5: rainy\n",
      "Weather for day 6: cloudy\n",
      "Weather for day 7: rainy\n"
     ]
    }
   ],
   "source": [
    "weather_options = ['sunny', 'rainy', 'cloudy']\n",
    "\n",
    "for weather in range(7):\n",
    "    weather_today = random.choice(weather_options)\n",
    "    print(f\"Weather for day {weather + 1}: {weather_today}\")"
   ]
  },
  {
   "cell_type": "markdown",
   "metadata": {},
   "source": [
    "# Homework Hack 3"
   ]
  },
  {
   "cell_type": "code",
   "execution_count": 285,
   "metadata": {},
   "outputs": [
    {
     "name": "stdout",
     "output_type": "stream",
     "text": [
      "It took 2 minutes to serve customer 1\n",
      "It took 3 minutes to serve customer 2\n",
      "It took 5 minutes to serve customer 3\n",
      "It took 4 minutes to serve customer 4\n",
      "It took 2 minutes to serve customer 5\n",
      "Total time taken to serve all 5 customers: 16 minutes\n"
     ]
    }
   ],
   "source": [
    "total_time = 0\n",
    "\n",
    "for x in range(5):\n",
    "    time = random.randint(1, 5)\n",
    "    total_time += time\n",
    "    print(f\"It took {time} minutes to serve customer {x + 1}\")\n",
    "\n",
    "print(f\"Total time taken to serve all 5 customers: {total_time} minutes\")\n"
   ]
  }
 ],
 "metadata": {
  "kernelspec": {
   "display_name": "venv",
   "language": "python",
   "name": "python3"
  },
  "language_info": {
   "codemirror_mode": {
    "name": "ipython",
    "version": 3
   },
   "file_extension": ".py",
   "mimetype": "text/x-python",
   "name": "python",
   "nbconvert_exporter": "python",
   "pygments_lexer": "ipython3",
   "version": "3.12.3"
  }
 },
 "nbformat": 4,
 "nbformat_minor": 2
}
