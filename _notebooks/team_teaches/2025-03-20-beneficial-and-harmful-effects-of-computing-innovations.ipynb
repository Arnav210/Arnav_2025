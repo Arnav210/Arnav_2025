{
 "cells": [
  {
   "cell_type": "raw",
   "metadata": {
    "vscode": {
     "languageId": "raw"
    }
   },
   "source": [
    "---\n",
    "layout: post\n",
    "toc: true\n",
    "categories:\n",
    "title: CSP beneficial and harmful effects of computing innovations\n",
    "description: \n",
    "courses: { csp: {week: 25} }\n",
    "type: ccc\n",
    "---"
   ]
  },
  {
   "cell_type": "markdown",
   "metadata": {},
   "source": [
    "### Popcorn Hack #1\n",
    "\n",
    "Technology has improved quality of life in many ways, such as:\n",
    " - improved efficiency, automation of activities, reduction in error, greater convenience, easier creation of art \n",
    "\n",
    "However, technology also has harmful effects, such as:\n",
    " - dependency on AI, invasion of privacy, cyberbullying"
   ]
  },
  {
   "cell_type": "markdown",
   "metadata": {},
   "source": [
    "### Popcorn Hack #2\n",
    "\n",
    "Negative effects of technology include cyberbullying, a dependency on AI in our lives that causes us to lose social skills, invasions of privacy through things such as drones, and also safety risks due to things like automatic cars or other similar things. Technological advancements also can change/eliminate jobs, which can be harmful to some people."
   ]
  },
  {
   "cell_type": "markdown",
   "metadata": {},
   "source": [
    "### Popcorn Hack #3\n",
    "\n",
    "It is important to understand the unintended consequences technology in order to ensure balance in life and economic systems and especially dopamine-driven technology so that you don't develop an addiction and begin to waste hours on end of your life while only lowering mental health, increasing anxiety and depression, and decreasing the amount of sleep you are getting. "
   ]
  },
  {
   "cell_type": "markdown",
   "metadata": {},
   "source": [
    "### Homework Hack #1\n",
    "\n",
    " - AI Innovation: Facial recognition technology\n",
    " - Original Use: Security and authentication\n",
    " - New Use: Tracking and monitoring of endangered animals in the wild\n",
    " - Benefits: Enhances wildlife conservation efforts, helps prevent poaching by identifying individual animals\n",
    " - Risks: Privacy conceerns if misused to track animals in captivity without consent, high cost and challenges to adapt AI to animal facial structures"
   ]
  },
  {
   "cell_type": "markdown",
   "metadata": {},
   "source": [
    "### Homework Hack 2\n",
    "\n",
    " - Problem: Misinformation due to AI\n",
    " - Risk: People developing false beliefs or ideas, which could influence them heavily (like in politics)\n",
    " - Solutions: Add a required watermark or other marking on AI created images or information, Create a required tag in the description on social media sites and punish those who fail to tag AI generated content"
   ]
  },
  {
   "cell_type": "markdown",
   "metadata": {},
   "source": [
    "### Homework Hack 3\n",
    "\n",
    " - AI Example: Chat GPT\n",
    " - What Happened: It was designed to help people create imaginative things and help with their daily lives, but it began to be used in school by students to skip their assignments\n",
    " - Response: Schools created preventive measures such as turnitin.com and other AI checkers\n",
    " - Prevention: Chat GPT developers should have thought of use cases by students and created a way to differentiate AI content for students"
   ]
  }
 ],
 "metadata": {
  "kernelspec": {
   "display_name": "venv",
   "language": "python",
   "name": "python3"
  },
  "language_info": {
   "codemirror_mode": {
    "name": "ipython",
    "version": 3
   },
   "file_extension": ".py",
   "mimetype": "text/x-python",
   "name": "python",
   "nbconvert_exporter": "python",
   "pygments_lexer": "ipython3",
   "version": "3.12.3"
  }
 },
 "nbformat": 4,
 "nbformat_minor": 2
}
