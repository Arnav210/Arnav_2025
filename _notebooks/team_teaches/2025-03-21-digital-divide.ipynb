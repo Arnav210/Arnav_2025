{
 "cells": [
  {
   "cell_type": "markdown",
   "metadata": {},
   "source": [
    "### Popcorn Hack #1\n",
    "\n",
    "Answers: B and D"
   ]
  },
  {
   "cell_type": "markdown",
   "metadata": {},
   "source": [
    "### Popcorn Hack #2\n",
    "\n",
    "In order to decrease the digital divide, some things that could be done are starting fundraisers, creating free classes for underprivileged people, and donating ourselves. Other things like this are also being done, with people providing assistance to people living in poverty or without access. One more thing that is necessary is for the government to expand networks and infrastructure to more places and to create cheap, working technology. "
   ]
  }
 ],
 "metadata": {
  "language_info": {
   "name": "python"
  }
 },
 "nbformat": 4,
 "nbformat_minor": 2
}
