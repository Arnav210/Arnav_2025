{
 "cells": [
  {
   "cell_type": "raw",
   "metadata": {
    "vscode": {
     "languageId": "raw"
    }
   },
   "source": [
    "---\n",
    "layout: post\n",
    "toc: true\n",
    "categories: CSP Digital Divide\n",
    "title: CSP Digital Divide\n",
    "description: \n",
    "courses: { csp: {week: 25} }\n",
    "type: ccc\n",
    "---"
   ]
  },
  {
   "cell_type": "markdown",
   "metadata": {},
   "source": [
    "### Popcorn Hack #1\n",
    "\n",
    "Answers: B and D"
   ]
  },
  {
   "cell_type": "markdown",
   "metadata": {},
   "source": [
    "### Popcorn Hack #2\n",
    "\n",
    "In order to decrease the digital divide, some things that could be done are starting fundraisers, creating free classes for underprivileged people, and donating ourselves. Other things like this are also being done, with people providing assistance to people living in poverty or without access. One more thing that is necessary is for the government to expand networks and infrastructure to more places and to create cheap, working technology. "
   ]
  },
  {
   "cell_type": "markdown",
   "metadata": {
    "vscode": {
     "languageId": "html"
    }
   },
   "source": [
    "### Homework Hack"
   ]
  },
  {
   "cell_type": "code",
   "execution_count": null,
   "metadata": {},
   "outputs": [],
   "source": [
    "import pandas as pd\n",
    "\n",
    "data = pd.read_csv(\"internet_users.csv\").drop(columns=['Notes', 'Year.2', 'Users (CIA)', 'Rate (ITU)', 'Year.1'])\n",
    "clean_data = data.dropna()\n",
    "\n",
    "tech_rate = clean_data['Rate (WB)']\n",
    "name = clean_data['Location']\n",
    "\n",
    "for country, rate in zip(name, tech_rate):\n",
    "    status = \"doing great\" if rate > 70 else \"needs improvement\"\n",
    "    print(f\"{country}: {rate}%: {status}\")\n"
   ]
  },
  {
   "cell_type": "markdown",
   "metadata": {},
   "source": [
    "##### Explanation\n",
    "\n",
    "First, I import pandas and use it to read the dataset and drop unnecessary columns. Then, I set a variable 'clean_data' and drop all of the parts of the data that aren't complete. I then use two variables, 'tech_rate' and 'name' and set it to equal individual columns of the dataset, which I then iterate through and connect with the zip function. Finally, I use an if statement that changes the value of status based on the rate of the country and finally prints all of it with a formatted string."
   ]
  }
 ],
 "metadata": {
  "kernelspec": {
   "display_name": "venv",
   "language": "python",
   "name": "python3"
  },
  "language_info": {
   "codemirror_mode": {
    "name": "ipython",
    "version": 3
   },
   "file_extension": ".py",
   "mimetype": "text/x-python",
   "name": "python",
   "nbconvert_exporter": "python",
   "pygments_lexer": "ipython3",
   "version": "3.12.3"
  }
 },
 "nbformat": 4,
 "nbformat_minor": 2
}
