{
 "cells": [
  {
   "cell_type": "raw",
   "metadata": {
    "vscode": {
     "languageId": "raw"
    }
   },
   "source": [
    "---\n",
    "layout: post\n",
    "toc: true\n",
    "categories:\n",
    "title: Big O and Algorithm Efficiency\n",
    "description: \n",
    "courses: { csp: {week: 25} }\n",
    "type: ccc\n",
    "---"
   ]
  },
  {
   "cell_type": "markdown",
   "metadata": {},
   "source": [
    "### Popcorn Hack 1"
   ]
  },
  {
   "cell_type": "code",
   "execution_count": 7,
   "metadata": {},
   "outputs": [
    {
     "name": "stdout",
     "output_type": "stream",
     "text": [
      "3\n",
      "1\n",
      "2\n",
      "3\n",
      "4\n",
      "5\n"
     ]
    }
   ],
   "source": [
    "# statement 1\n",
    "arr = [1, 2, 3, 4, 5]\n",
    "\n",
    "\n",
    "# statement 2\n",
    "print(arr[2])\n",
    "\n",
    "for num in arr:\n",
    "    print(num)\n"
   ]
  },
  {
   "cell_type": "markdown",
   "metadata": {},
   "source": [
    "The reason that the first print statement is faster than the other one is that it has constant time complexity and will always directly access the chosen number while the second print statement inside the for loop needs to cycle through every element in the list. With larger input values, the amount of time will stay the same for statement one but for statement two it will take increasingly longer."
   ]
  },
  {
   "cell_type": "markdown",
   "metadata": {},
   "source": [
    "### Popcorn Hack 2"
   ]
  },
  {
   "cell_type": "code",
   "execution_count": 8,
   "metadata": {},
   "outputs": [
    {
     "name": "stdout",
     "output_type": "stream",
     "text": [
      "1 2\n",
      "1 3\n",
      "2 3\n"
     ]
    }
   ],
   "source": [
    "arr = [1, 2, 3]\n",
    "\n",
    "for x in arr:\n",
    "    for y in arr:\n",
    "        if x < y:\n",
    "            print(x, y)"
   ]
  },
  {
   "cell_type": "markdown",
   "metadata": {},
   "source": [
    "This code segment has a quadratic time complexity as it will go through the entire list again for each number in the list."
   ]
  },
  {
   "cell_type": "markdown",
   "metadata": {},
   "source": [
    "### Popcorn Hack 3\n",
    "\n",
    "q1: b - Factorial Time (grows heavily with increased input size)\n",
    "\n",
    "q2: c - Quadratic Time (see above example)"
   ]
  },
  {
   "cell_type": "markdown",
   "metadata": {},
   "source": [
    "### Homework Hack 1"
   ]
  },
  {
   "cell_type": "code",
   "execution_count": 9,
   "metadata": {},
   "outputs": [
    {
     "name": "stdout",
     "output_type": "stream",
     "text": [
      "5 10\n",
      "5 15\n",
      "5 20\n",
      "5 25\n",
      "10 15\n",
      "10 20\n",
      "10 25\n",
      "15 20\n",
      "15 25\n",
      "20 25\n"
     ]
    }
   ],
   "source": [
    "def bigo(array, string):\n",
    "    if string == \"constant\":\n",
    "        print(arr[0])\n",
    "    elif string == \"linear\":\n",
    "        for x in array:\n",
    "            print(x)\n",
    "    elif string == \"quadratic\":\n",
    "        for x in array:\n",
    "            for y in array:\n",
    "                if x < y:\n",
    "                    print(x, y)\n",
    "\n",
    "arr = [5, 10, 15, 20, 25]\n",
    "complexity = \"quadratic\"\n",
    "\n",
    "bigo(arr, complexity)"
   ]
  }
 ],
 "metadata": {
  "kernelspec": {
   "display_name": "venv",
   "language": "python",
   "name": "python3"
  },
  "language_info": {
   "codemirror_mode": {
    "name": "ipython",
    "version": 3
   },
   "file_extension": ".py",
   "mimetype": "text/x-python",
   "name": "python",
   "nbconvert_exporter": "python",
   "pygments_lexer": "ipython3",
   "version": "3.12.3"
  }
 },
 "nbformat": 4,
 "nbformat_minor": 2
}
