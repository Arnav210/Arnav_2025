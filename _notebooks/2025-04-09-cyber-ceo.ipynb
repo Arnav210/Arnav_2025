{
 "cells": [
  {
   "cell_type": "raw",
   "metadata": {
    "vscode": {
     "languageId": "raw"
    }
   },
   "source": [
    "---\n",
    "layout: post\n",
    "toc: true\n",
    "categories:\n",
    "title: Cyber CEO Event\n",
    "description: \n",
    "courses: { csp: {week: 25} }\n",
    "type: ccc\n",
    "---"
   ]
  },
  {
   "cell_type": "markdown",
   "metadata": {},
   "source": [
    "### Notes I took during the event\n",
    "\n",
    "Cyber CEO\n",
    "cybersecurity is the protection of systems networks and data from digital attacks\n",
    "Safeguards personal data as well as business information\n",
    "David Tomasz - FBI, worked to identify large hackers and the feeling of finding someone after tracking them for so long is an indescribable feeling\n",
    "Tricia Mercer - Person from her company who had access to all of their private data went on a leave of absence and was stealing company data and selling to competitors\n",
    "Victor Nezeata - Cyber Academy CEO, works to prevent hackers from getting our information and worked on removing accidentally public data from being used maliciously\n",
    "Biggest threats today:\n",
    "     - ransomware, huge fear for companies, people steal massive amounts of intellectual property all the time and if you pour a lot of money into something and it’s stolen your company can go under\n",
    "     - A.I. used to attack, need more ethical hackers\n",
    "     - phishing is a huge error and many people don’t know about the basics and their vulnerabilities, even thought they have training or the phishing attempt is obvious they still fall for it and that could lead to vulnerable and classified data to be leaked\n",
    "     - 0 days are vulnerabilities that cannot be dealt with, vulnerabilities that have no patch\n",
    "Ethical hackers:\n",
    "     - best because they mimic actual hackers that use the same tools and techniques to figure out exactly how an attacker would try to break in and where updates need to be made\n",
    "     - ethical concerns are present with ethical hackers, for example, one ethical hacker put a back door into their program for themself that leaves the program vulnerable\n",
    "     - people who are very skilled at breaking into systems are extremely useful for companies and even government bodies\n",
    "     - personal integrity and values are huge when being an ethical hacker as you have access to a lot of personal and classified data\n",
    "What encouraged you to go into cyber security:\n",
    "     - Tricia: mother wanted her to go into computers, then she read a book that inspired her to go into cyber security\n",
    "     - David: hates computers and wanted to do international relations but was assigned to cyber and started to love it\n",
    "     - Victor: never thought he would go into cyber and worked in the army but had a technical background and was going through the training for a job and learned about parts of cyber and was drawn in by the fact that it is always changing\n",
    "How to pursue cyber:\n",
    "     - get a background in IT because IT is always the first thing you secure and helps with understanding what you’re protecting\n",
    "     - soft skills: be nice, be a good leader, be social and likable (if you’re recognized and likable and technical then you will go places)\n",
    "     - know the essentials, build your own network, get into hackathons, get an internship, learn computing basics\n",
    "You should be able to talk to people and convince people you’re important and explain it in a way that others can understand in business\n",
    "Cyber is great but there’s also people on the other side\n",
    "Future of cybersecurity and its importance:\n",
    "     - trends: likely more specializations such as healthcare IT, A.I. impact on coding you need to be extremely skilled at coding or it’s not a good time for you, in the next 5 years cyber will likely be even more important for companies\n",
    "     - how to prepare for threats: stay informed and be curious, not an industry that you only work 9-5 you have to keep on being informed, you need to want to do research and stay aware of other countries and try to stay on top of unknowns, do a lot of reading and learning, identify people who are really good and learn things from them"
   ]
  },
  {
   "cell_type": "markdown",
   "metadata": {},
   "source": [
    "### My Takeaways\n",
    "\n",
    "The field of cybersecurity is actually a lot more interesting than I imagined and I believe that I will be joining the Del Norte cybersecurity club in my junior year. The event also made me realize just how important cybersecurity is to our society and I also learned some of the terms, professions, and other things involved with this career path. I think that this is something that I might pursue for my future as there will definetely be a well paying job market and it is a field that I can dive into and get interested in. This event has opened my eyes to new parts of coding outside of the simple stuff that can be even more interesting and beneficial to society. "
   ]
  }
 ],
 "metadata": {
  "language_info": {
   "name": "python"
  }
 },
 "nbformat": 4,
 "nbformat_minor": 2
}
