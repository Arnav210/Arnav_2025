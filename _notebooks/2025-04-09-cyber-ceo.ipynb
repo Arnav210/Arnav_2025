{
 "cells": [
  {
   "cell_type": "raw",
   "metadata": {
    "vscode": {
     "languageId": "raw"
    }
   },
   "source": [
    "---\n",
    "layout: post\n",
    "toc: true\n",
    "categories:\n",
    "title: Cyber CEO Event\n",
    "description: \n",
    "courses: { csp: {week: 25} }\n",
    "type: ccc\n",
    "---"
   ]
  },
  {
   "cell_type": "markdown",
   "metadata": {},
   "source": [
    "# Notes I Took During the Event\n",
    "\n",
    "# Cybersecurity Overview\n",
    "\n",
    "**Cybersecurity** is the protection of systems, networks, and data from digital attacks. It safeguards both personal data and business information.\n",
    "\n",
    "---\n",
    "\n",
    "## Key Individuals & Their Stories\n",
    "\n",
    "- **David Tomasz** (FBI): Worked to identify large hackers. He described the feeling of catching someone after tracking them for so long as \"indescribable.\"\n",
    "- **Tricia Mercer**: Experienced a breach when a person from her company with access to all private data went on leave and was later found stealing and selling data to competitors.\n",
    "- **Victor Nezeata** (Cyber Academy CEO): Works to prevent hackers from accessing our data. He has also helped remove accidentally public data that could be used maliciously.\n",
    "\n",
    "---\n",
    "\n",
    "## Biggest Threats Today\n",
    "\n",
    "- **Ransomware**: A major threat to companies. Intellectual property theft can destroy companies if major investments are stolen.\n",
    "- **AI-Driven Attacks**: Increased use of AI in attacks heightens the need for ethical hackers.\n",
    "- **Phishing**: Despite training, many people fall for obvious scams, potentially leaking classified and sensitive data.\n",
    "- **Zero-Day Exploits**: Vulnerabilities with no known patch or fix, making them especially dangerous.\n",
    "\n",
    "---\n",
    "\n",
    "## Ethical Hackers\n",
    "\n",
    "- Mimic real attackers by using the same tools and techniques to find and fix vulnerabilities.\n",
    "- **Concerns**: Some ethical hackers have inserted backdoors into software, creating risks.\n",
    "- Highly valuable to companies and governments for their unique skills.\n",
    "- **Integrity is key** — they often have access to classified and personal data.\n",
    "\n",
    "---\n",
    "\n",
    "## Motivations for Going into Cybersecurity\n",
    "\n",
    "- **Tricia**: Inspired by her mother and a book that led her into cybersecurity.\n",
    "- **David**: Initially hated computers and wanted to pursue international relations, but grew to love cybersecurity after being assigned to it.\n",
    "- **Victor**: Had a technical background in the army. Discovered cybersecurity through job training and was drawn in by the field’s ever-changing nature.\n",
    "\n",
    "---\n",
    "\n",
    "## How to Pursue a Career in Cybersecurity\n",
    "\n",
    "- **Foundational Knowledge**: Start with a background in IT — understanding what you’re protecting is essential.\n",
    "- **Soft Skills**:\n",
    "  - Be friendly, social, and a good leader.\n",
    "  - Being likable and recognized along with technical skills helps you stand out.\n",
    "- **Practical Experience**:\n",
    "  - Know the basics of computing.\n",
    "  - Build your own network.\n",
    "  - Participate in hackathons.\n",
    "  - Get an internship.\n",
    "\n",
    "> You should be able to talk to people, explain technical things clearly, and show your value to the business side.\n",
    "\n",
    "---\n",
    "\n",
    "## Future of Cybersecurity\n",
    "\n",
    "- **Trends**:\n",
    "  - Increase in specializations (e.g., healthcare IT).\n",
    "  - Greater impact of AI on coding — strong coding skills will be essential.\n",
    "  - Cybersecurity will become even more critical for companies over the next five years.\n",
    "- **Preparing for the Future**:\n",
    "  - Stay informed and curious.\n",
    "  - Cybersecurity is not a 9–5 job — constant learning and awareness are necessary.\n",
    "  - Follow experts in the field and learn from them.\n",
    "  - Stay up to date on global threats and emerging vulnerabilities.\n",
    "\n",
    "---"
   ]
  },
  {
   "cell_type": "markdown",
   "metadata": {},
   "source": [
    "# My Takeaways\n",
    "\n",
    "The field of cybersecurity is actually a lot more interesting than I imagined and I believe that I will be joining the Del Norte cybersecurity club in my junior year. The event also made me realize just how important cybersecurity is to our society and I also learned some of the terms, professions, and other things involved with this career path. I think that this is something that I might pursue for my future as there will definetely be a well paying job market and it is a field that I can dive into and get interested in. This event has opened my eyes to new parts of coding outside of the simple stuff that can be even more interesting and beneficial to society. "
   ]
  }
 ],
 "metadata": {
  "kernelspec": {
   "display_name": "venv",
   "language": "python",
   "name": "python3"
  },
  "language_info": {
   "codemirror_mode": {
    "name": "ipython",
    "version": 3
   },
   "file_extension": ".py",
   "mimetype": "text/x-python",
   "name": "python",
   "nbconvert_exporter": "python",
   "pygments_lexer": "ipython3",
   "version": "3.12.3"
  }
 },
 "nbformat": 4,
 "nbformat_minor": 2
}
