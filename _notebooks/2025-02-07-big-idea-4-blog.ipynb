{
 "cells": [
  {
   "cell_type": "raw",
   "metadata": {
    "vscode": {
     "languageId": "raw"
    }
   },
   "source": [
    "---\n",
    "layout: post\n",
    "title: Big Idea 4 Blog\n",
    "description: Big Idea 4 Blog \n",
    "type: issues \n",
    "comments: true\n",
    "---"
   ]
  },
  {
   "cell_type": "markdown",
   "metadata": {},
   "source": [
    "## Big Idea 4: Computing Systems and Networks\n",
    "\n",
    "- How computers send and recieve information\n",
    "- How data is transferred\n",
    "- Identify vulnerabilities of networks"
   ]
  },
  {
   "cell_type": "markdown",
   "metadata": {},
   "source": [
    "## What Programs/Tools Do We Use?\n",
    "\n",
    "- Flask\n",
    "- Python (backend)\n",
    "- SQLite3\n",
    "- Javascript (frontend)\n",
    "- Github\n",
    "- AWS\n",
    "- Docker\n",
    "- Nginx\n",
    "- Certbot"
   ]
  },
  {
   "cell_type": "markdown",
   "metadata": {},
   "source": [
    "## Frontend: Deployed Through GitHub\n",
    "\n",
    "Our frontend repository is contained in GitHub, where it is deployed, allowing us and others to access it at all times.\n",
    "\n",
    "- Frontend fetches and makes GET, POST, PUT, and DELETE requests to the backend\n",
    "- Information is converted to JSON and transferred from frontend to backend\n",
    "\n",
    "## Example fetching and POST request:"
   ]
  },
  {
   "cell_type": "code",
   "execution_count": null,
   "metadata": {
    "vscode": {
     "languageId": "javascript"
    }
   },
   "outputs": [],
   "source": [
    "function updatePreferences(updatedData) {\n",
    "    fetch(apiUrl, {\n",
    "      method: 'POST',\n",
    "      headers: {\n",
    "        'Content-Type': 'application/json'\n",
    "      },\n",
    "      body: JSON.stringify(updatedData)\n",
    "    })\n",
    "    .then(response => response.json())\n",
    "    .then(data => {\n",
    "      loadPreferences();\n",
    "    })\n",
    "    .catch(error => {\n",
    "      console.error('Error updating preferences:', error);\n",
    "    });\n",
    "  }"
   ]
  },
  {
   "cell_type": "markdown",
   "metadata": {},
   "source": [
    "# Backend: CRUD Operations\n",
    "\n",
    "- The backend handles the frontend requests and connects it to a database by creating an api\n",
    "\n",
    "# API Connecting to Database:"
   ]
  },
  {
   "cell_type": "code",
   "execution_count": null,
   "metadata": {
    "vscode": {
     "languageId": "javascript"
    }
   },
   "outputs": [],
   "source": [
    "# Path to the existing SQLite database\n",
    "DB_PATH = './instance/volumes/user_management.db'\n",
    "\n",
    "# Ensure the database file and table exist\n",
    "def init_db():\n",
    "    if not os.path.exists('./instance/volumes'):\n",
    "        os.makedirs('./instance/volumes')\n",
    "\n",
    "    conn = sqlite3.connect(DB_PATH)\n",
    "    cursor = conn.cursor()\n",
    "    cursor.execute('''\n",
    "        CREATE TABLE IF NOT EXISTS usersDb (\n",
    "            table_id INTEGER PRIMARY KEY AUTOINCREMENT,\n",
    "            name TEXT NOT NULL,\n",
    "            fav_book TEXT NOT NULL,\n",
    "            user_id INTEGER NOT NULL UNIQUE\n",
    "        )\n",
    "    ''')"
   ]
  },
  {
   "cell_type": "code",
   "execution_count": null,
   "metadata": {
    "vscode": {
     "languageId": "javascript"
    }
   },
   "outputs": [],
   "source": [
    "@app_bp.route('/usersDb/<int:user_id>', methods=['DELETE', 'PUT'])\n",
    "def modify_user(user_id):\n",
    "    if request.method == 'DELETE':\n",
    "        try:\n",
    "            conn = sqlite3.connect(DB_PATH)\n",
    "            cursor = conn.cursor()\n",
    "            cursor.execute(\"DELETE FROM usersDb WHERE user_id = ?\", (user_id,))\n",
    "            conn.commit()\n",
    "            rows_deleted = cursor.rowcount\n",
    "            conn.close()\n",
    "\n",
    "            if rows_deleted == 0:\n",
    "                return jsonify({\"error\": \"User not found\"}), 404\n",
    "\n",
    "            return jsonify({\"message\": \"User deleted successfully\"}), 200\n",
    "        except Exception as e:\n",
    "            return jsonify({\"error\": str(e)}), 500"
   ]
  },
  {
   "cell_type": "markdown",
   "metadata": {},
   "source": [
    "## AWS and Docker\n",
    "\n",
    "AWS:\n",
    "- Provides servers, storage, and networking services\n",
    "- Hosts the backend server\n",
    "\n",
    "Docker:\n",
    "- Is a container\n",
    "- Deploys the backend website\n",
    "- Allows for multiple containers to be run simultaneously\n",
    "\n",
    "## Dockerfile:"
   ]
  },
  {
   "cell_type": "code",
   "execution_count": null,
   "metadata": {
    "vscode": {
     "languageId": "javascript"
    }
   },
   "outputs": [],
   "source": [
    "services:\n",
    "        web:\n",
    "                image: litconnect\n",
    "                build: .\n",
    "                env_file:\n",
    "                        - .env # This file is optional; defaults will be used if it does not exist\n",
    "                ports:\n",
    "                        - \"8103:8103\"\n",
    "                volumes:\n",
    "                        - ./instance:/instance\n",
    "                restart: unless-stopped\n"
   ]
  },
  {
   "cell_type": "markdown",
   "metadata": {},
   "source": [
    "## Nginx and Certbot\n",
    "\n",
    "Nginx: \n",
    "- Handles requests and directs them to the proper backend\n",
    "\n",
    "Certbot:\n",
    "- Allows for deployed pages to be converted from http to https for security"
   ]
  },
  {
   "cell_type": "markdown",
   "metadata": {},
   "source": [
    "## Connection - Our Work and Big Idea 4\n",
    "\n",
    "Using various techniques such as using an api, were are sending information between the frontend and the backend, and deploying our frontend and our backend pages to the web using AWS (among other things).\n",
    "\n",
    "These processes involve 2 of the 3 major parts of Big Idea 4, sending and recieving data as well as learning how the data is being transferred. "
   ]
  }
 ],
 "metadata": {
  "kernelspec": {
   "display_name": "venv",
   "language": "python",
   "name": "python3"
  },
  "language_info": {
   "codemirror_mode": {
    "name": "ipython",
    "version": 3
   },
   "file_extension": ".py",
   "mimetype": "text/x-python",
   "name": "python",
   "nbconvert_exporter": "python",
   "pygments_lexer": "ipython3",
   "version": "3.12.3"
  }
 },
 "nbformat": 4,
 "nbformat_minor": 2
}
