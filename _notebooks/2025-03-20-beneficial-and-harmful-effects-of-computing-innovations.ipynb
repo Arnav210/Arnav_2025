{
 "cells": [
  {
   "cell_type": "raw",
   "metadata": {
    "vscode": {
     "languageId": "raw"
    }
   },
   "source": [
    "---\n",
    "layout: post\n",
    "toc: true\n",
    "categories: CSP beneficial and harmful effects of computing innovations\n",
    "title: CSP beneficial and harmful effects of computing innovations\n",
    "description: \n",
    "courses: { csp: {week: 25} }\n",
    "type: ccc\n",
    "---"
   ]
  },
  {
   "cell_type": "markdown",
   "metadata": {},
   "source": [
    "### Popcorn Hack #1\n",
    "\n",
    "Technology has improved quality of life in many ways, such as:\n",
    " - improved efficiency, automation of activities, reduction in error, greater convenience, easier creation of art \n",
    "\n",
    "However, technology also has garmful effects, such as:\n",
    " - "
   ]
  }
 ],
 "metadata": {
  "language_info": {
   "name": "python"
  }
 },
 "nbformat": 4,
 "nbformat_minor": 2
}
