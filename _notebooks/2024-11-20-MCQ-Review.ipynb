{
 "cells": [
  {
   "cell_type": "markdown",
   "metadata": {},
   "source": [
    "Q1\n",
    "\n",
    "Answer B is correct because, as the programmer is attempting to swap the values of second and first and the value is first is stored in temp, temp will be assigned to second to swap the value.\n",
    "\n",
    "Q12\n",
    "\n",
    "Answer B is correct because the average amount of registered users increases by roughly 500 thousand each year. As 2 years are passing, it can be estimated that the amount of registered users will increase by roughly 1 million. As 30.2 + 1 = 31.2, the correct answer is B.\n",
    "\n",
    "Q13\n",
    "\n",
    "Answer D is correct as the average number of characters per message decreases significantly after the mobile app released. Option A is incorrect as the average number of daily messages sent increases slightly after the app is released.\n",
    "\n",
    "Q43\n",
    "\n",
    "Based on the pattern in the table, the number of steps are only the number of items squared, meaning that even large amounts of steps would not result in excessively long completion times.\n",
    "\n",
    "Q44\n",
    "\n",
    "Because the program uses only 4 bits, only 15 integers are able to be represented. Because of this, since 7 + 10 is greater than 15, the program results in an overflow error. Since both 4 + 8 and 12 + 3 are 15 or lower, they do not result in an overflow error.\n",
    "\n",
    "Q45\n",
    "\n",
    "The program in option C checks if both P and Q are true. If that is the case, it returns false, as the program is NOT (P AND Q) rather than P AND Q. If both P and Q are not true, it returns true, which means it is a NAND logic gate.\n",
    "\n",
    "Q46\n",
    "\n",
    "Answer D is correct. The problem that the student is attempting to solve is considered undecidable, meaning that it has no solution. As a result, it is not possible to create an algorithm that will solve it.\n",
    "\n",
    "Q48\n",
    "\n",
    "Because the successful trials have a 75% chance, the chance of a random number between 1-75 out of 100 is an accurate representation of the chances for a successful trial.\n",
    "\n",
    "Q50\n",
    "\n",
    "The procedure is linear because it goes through and checks each element of the list by comparing it to the target value.\n",
    "\n",
    "Q57\n",
    "\n",
    "Answer B is right because it joins 2 letters from Harp starting from H and 3 letters from Puppy starting from the second p.\n",
    "\n",
    "Reflection\n",
    "I knew the answers to most if not all of the questions I got wrong, but I was misreading the questions or making stupid mistakes unfortunately. The only question I did not know was Q43, or the runtime of algorithm for online retailer. I did not know that running thousands of steps can be done quickly, but now I have a more clear understanding of the time that steps take.\n",
    "\n",
    "Reviewed With:\n",
    "Ahaan and Rohan\n",
    "\n",
    "(Images for questions are in an issue in my personal repo - Arnav_2025)"
   ]
  }
 ],
 "metadata": {
  "kernelspec": {
   "display_name": "venv",
   "language": "python",
   "name": "python3"
  },
  "language_info": {
   "codemirror_mode": {
    "name": "ipython",
    "version": 3
   },
   "file_extension": ".py",
   "mimetype": "text/x-python",
   "name": "python",
   "nbconvert_exporter": "python",
   "pygments_lexer": "ipython3",
   "version": "3.12.3"
  }
 },
 "nbformat": 4,
 "nbformat_minor": 2
}
